{
 "cells": [
  {
   "cell_type": "code",
   "id": "initial_id",
   "metadata": {
    "collapsed": true,
    "ExecuteTime": {
     "end_time": "2025-02-05T00:45:36.109953Z",
     "start_time": "2025-02-05T00:45:36.097524Z"
    }
   },
   "source": [
    "import json\n",
    "\n",
    "rows=[]\n",
    "with open(\"data/validation-set.json\", \"r\") as f:\n",
    "    for line in f:\n",
    "        rows.append(json.loads(line))\n",
    "        \n",
    "len(rows)"
   ],
   "outputs": [
    {
     "data": {
      "text/plain": [
       "166"
      ]
     },
     "execution_count": 5,
     "metadata": {},
     "output_type": "execute_result"
    }
   ],
   "execution_count": 5
  },
  {
   "metadata": {
    "ExecuteTime": {
     "end_time": "2025-02-05T00:41:14.028140Z",
     "start_time": "2025-02-05T00:41:14.021911Z"
    }
   },
   "cell_type": "code",
   "source": "",
   "id": "730b37670b040c6b",
   "outputs": [
    {
     "data": {
      "text/plain": [
       "<jsonlines.Reader at 0x111ab0290 wrapping 'data/validation-set.json'>"
      ]
     },
     "execution_count": 4,
     "metadata": {},
     "output_type": "execute_result"
    }
   ],
   "execution_count": 4
  }
 ],
 "metadata": {
  "kernelspec": {
   "display_name": "Python 3",
   "language": "python",
   "name": "python3"
  },
  "language_info": {
   "codemirror_mode": {
    "name": "ipython",
    "version": 2
   },
   "file_extension": ".py",
   "mimetype": "text/x-python",
   "name": "python",
   "nbconvert_exporter": "python",
   "pygments_lexer": "ipython2",
   "version": "2.7.6"
  }
 },
 "nbformat": 4,
 "nbformat_minor": 5
}
